{
 "cells": [
  {
   "cell_type": "markdown",
   "metadata": {},
   "source": [
    "#### GISC 420 T1 2022\n",
    "# **LAB ASSIGNMENT 2**\n",
    "Corvin Idler, ID 300598312"
   ]
  },
  {
   "cell_type": "markdown",
   "metadata": {},
   "source": [
    "## **Code already provided**\n"
   ]
  },
  {
   "cell_type": "code",
   "execution_count": null,
   "metadata": {},
   "outputs": [],
   "source": [
    "# You need to run this cell to get things setup\n",
    "%matplotlib inline\n",
    "import matplotlib\n",
    "import matplotlib.pyplot as pyplot\n",
    "import geopandas\n",
    "import shapely\n",
    "import math"
   ]
  },
  {
   "cell_type": "markdown",
   "metadata": {},
   "source": [
    "Definition of lon_lat_at_bearing_and_distance() and geodesic_circle() function"
   ]
  },
  {
   "cell_type": "code",
   "execution_count": null,
   "metadata": {},
   "outputs": [],
   "source": [
    "# returns a lon-lat point (in degrees) given\n",
    "# a starting lon-lat and bearing and distance **(all in radians)**\n",
    "# equation is from\n",
    "# https://stackoverflow.com/questions/7222382/get-lat-long-given-current-point-distance-and-bearing\n",
    "def lon_lat_at_bearing_and_distance(p, b, d):\n",
    "    lon1 = p[0]\n",
    "    lat1 = p[1]\n",
    "    lat2 = math.asin(math.sin(lat1) * math.cos(d) + \n",
    "                     math.cos(lat1) * math.sin(d) * math.cos(b))\n",
    "    lon2 = lon1 + math.atan2(math.sin(b) * math.sin(d) * math.cos(lat1), \n",
    "                             math.cos(d) - math.sin(lat1) * math.sin(lat1))\n",
    "    # convert result to degrees before returning\n",
    "    return (math.degrees(lon2), math.degrees(lat2))\n",
    "\n",
    "\n",
    "# makes a shapely.geometry in lon-lat coordinates\n",
    "# based on a provide centre point in lon-lat and \n",
    "# radius expressed **in degrees**\n",
    "def geodesic_circle(p=(0,0), rd=2):\n",
    "    # extract the numbers and convert to radians\n",
    "    # assume p is a (lon, lat) tuple in degrees\n",
    "    ll = (math.radians(p[0]), math.radians(p[1]))\n",
    "    # convert rd to degrees\n",
    "    rr = math.radians(rd) \n",
    "    \n",
    "    # empty list for the resulting points\n",
    "    pts = []\n",
    "    # 360 in 1 degree steps\n",
    "    # each time get a point at the distance rr away in that direction\n",
    "    for bearing in range(360):\n",
    "        pts.append(lon_lat_at_bearing_and_distance(ll, math.radians(bearing), rr))\n",
    "    return shapely.geometry.Polygon(pts)\n"
   ]
  },
  {
   "cell_type": "markdown",
   "metadata": {},
   "source": [
    "Function definition of make_gdf_from_circles()"
   ]
  },
  {
   "cell_type": "code",
   "execution_count": null,
   "metadata": {},
   "outputs": [],
   "source": [
    "def make_gdf_from_circles(circles):\n",
    "    gs = geopandas.GeoSeries(circles)\n",
    "    gdf = geopandas.GeoDataFrame(geometry=gs)\n",
    "    gdf.crs = \"EPSG:4326\" # tell it we are using simple lon-lat\n",
    "    return gdf"
   ]
  },
  {
   "cell_type": "markdown",
   "metadata": {},
   "source": [
    "Set up a base map"
   ]
  },
  {
   "cell_type": "code",
   "execution_count": null,
   "metadata": {},
   "outputs": [],
   "source": [
    "world = geopandas.read_file(geopandas.datasets.get_path('naturalearth_lowres'))"
   ]
  },
  {
   "cell_type": "markdown",
   "metadata": {},
   "source": [
    "Load file with equally spaced grid centres (`cc.csv`). Using the filepath needed to make it run from within the binder image"
   ]
  },
  {
   "cell_type": "code",
   "execution_count": null,
   "metadata": {},
   "outputs": [],
   "source": [
    "# The open() function opens the specified file for reading into a list of lines\n",
    "with open(\"labs/sequences-and-iteration/cc.csv\") as file:\n",
    "    data = file.readlines()"
   ]
  },
  {
   "cell_type": "markdown",
   "metadata": {},
   "source": [
    "## **As from here my own work**\n",
    "## **First part of the assignement**"
   ]
  },
  {
   "cell_type": "code",
   "execution_count": null,
   "metadata": {},
   "outputs": [],
   "source": [
    "# first make an empty list for the circles\n",
    "# call it something appropriate\n",
    "circle_list = []\n",
    "\n",
    "# loop through the data read from the file using a for loop\n",
    "# you can skip the first line with a slice operation\n",
    "for line in data[1:]:\n",
    "\n",
    "# inside the loop, with each line of the data:\n",
    "# first, remove the last character (the newline character) (this is another slice operation)\n",
    "    temp = line[:-1]\n",
    "\n",
    "# second, split the line into two strings at the ',' separator (look back to the available string functions)\n",
    "    long, lat = temp.split(',')\n",
    "\n",
    "# now you should have a list of two items, the lon and lat, as strings\n",
    "# so, third, you need to convert these to float values and then pass them into\n",
    "# the geodesic_circle function as the p parameter\n",
    "# finally, append the resulting geodesic_circle to the list of circles\n",
    "    circle_list.append(geodesic_circle(p=(float(long),float(lat))))"
   ]
  },
  {
   "cell_type": "code",
   "execution_count": null,
   "metadata": {},
   "outputs": [],
   "source": [
    "#make a GeoDataFrame from your list of circles\n",
    "gdf = make_gdf_from_circles(circle_list)"
   ]
  },
  {
   "cell_type": "code",
   "execution_count": null,
   "metadata": {},
   "outputs": [],
   "source": [
    "#Plotting the results\n",
    "fig = pyplot.figure(figsize=(12,6))\n",
    "base = fig.add_subplot(111)\n",
    "\n",
    "world.plot(ax=base, facecolor='lightgrey')\n",
    "gdf.plot(ax=base, facecolor='r', alpha=0.5)"
   ]
  },
  {
   "cell_type": "markdown",
   "metadata": {},
   "source": [
    "## **The second part of the assignment**"
   ]
  },
  {
   "cell_type": "code",
   "execution_count": null,
   "metadata": {},
   "outputs": [],
   "source": [
    "# Make an empty list for the circles\n",
    "new_circle_list = []\n",
    "\n",
    "# Use nested for loops and the range operation to make a series of circles\n",
    "# arranged in a longitude - latitude grid, appending them to the list each time\n",
    "for long in range(-175, 175, 15):\n",
    "    for lat in range(-75, 76, 15):\n",
    "        new_circle_list.append(geodesic_circle(p=(float(long),float(lat))))\n",
    "\n",
    "# then use make_gdf_from_circles() to make GeoDataFrame from your list of circles\n",
    "new_gdf = make_gdf_from_circles(new_circle_list)\n",
    "\n",
    "# then use the code you used before to make a map\n",
    "fig = pyplot.figure(figsize=(12,6))\n",
    "base = fig.add_subplot(111)\n",
    "\n",
    "world.plot(ax=base, facecolor='lightgrey')\n",
    "new_gdf.plot(ax=base, facecolor='r', alpha=0.5)"
   ]
  },
  {
   "cell_type": "markdown",
   "metadata": {},
   "source": [
    "## Commentary\n",
    "No major coding problems. Fiddled around a bit with the range definition in the second part of the assignement, to make it visually appealing (as I didn't want dots that are hovering over empty space without a landmass).\n",
    "\n",
    "Main difference between the map in the first part of the assignement and the one in the second part of the assignement is obviously that the grid in the first part is equally spaced on a 3D sphere. That means particularly the convergence of the meridians at the poles is taken into account.\n",
    "\n",
    "The spacing of the circles in the second map has a fixed step size regardless of the latitude of the coordinates. That means the circles appear more or less equally spaced in the projection that was used, but are certainly not equally spaced on a 3D sphere (high latitudes vs. low latitudes)."
   ]
  },
  {
   "cell_type": "markdown",
   "metadata": {},
   "source": [
    "## Comments\n",
    "All good. \n",
    "\n",
    "For the string processing, I suppose the prompt is to use a slice to remove the newline characters. An alternative is `line = line.strip()` Note that you don't really need a `temp` you can just do \n",
    "\n",
    "    lon, lat = line.strip().split(\",\")\n",
    "    \n",
    "if you really want to go for it you can even do \n",
    "\n",
    "    lonlat = [float(s) for s in line.strip().split(\",\")]\n",
    "    \n",
    "Of course it's all a bit academic given that reading the data using `pandas` is a better idea anyway!\n",
    "\n",
    "One option for avoiding the dateline and poles would be\n",
    "\n",
    "    circ_r = 2\n",
    "    step = int(circ_r * 2)\n",
    "    for x in range(-180 + circle_r, 181 - circ_r, step):\n",
    "        ...\n",
    "    \n",
    "or similar. It might not be failsafe (almost certainly not) but it would avoid a lot of the problem coordinates.\n",
    "\n",
    "**A**"
   ]
  },
  {
   "cell_type": "code",
   "execution_count": null,
   "metadata": {},
   "outputs": [],
   "source": []
  }
 ],
 "metadata": {
  "kernelspec": {
   "display_name": "Python 3 (ipykernel)",
   "language": "python",
   "name": "python3"
  },
  "language_info": {
   "codemirror_mode": {
    "name": "ipython",
    "version": 3
   },
   "file_extension": ".py",
   "mimetype": "text/x-python",
   "name": "python",
   "nbconvert_exporter": "python",
   "pygments_lexer": "ipython3",
   "version": "3.9.7"
  }
 },
 "nbformat": 4,
 "nbformat_minor": 4
}
