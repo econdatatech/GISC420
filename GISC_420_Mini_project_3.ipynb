{
  "nbformat": 4,
  "nbformat_minor": 0,
  "metadata": {
    "colab": {
      "name": "GISC 420 Mini project 3.ipynb",
      "provenance": [],
      "include_colab_link": true
    },
    "kernelspec": {
      "name": "python3",
      "display_name": "Python 3"
    }
  },
  "cells": [
    {
      "cell_type": "markdown",
      "metadata": {
        "id": "view-in-github",
        "colab_type": "text"
      },
      "source": [
        "<a href=\"https://colab.research.google.com/github/econdatatech/GISC420/blob/main/GISC_420_Mini_project_3.ipynb\" target=\"_parent\"><img src=\"https://colab.research.google.com/assets/colab-badge.svg\" alt=\"Open In Colab\"/></a>"
      ]
    },
    {
      "cell_type": "markdown",
      "source": [
        "#### GISC 420 T1 2022\n",
        "# Mini Project Part 3\n",
        "\n",
        "\n",
        "Corvin Idler,  ID 300598312 "
      ],
      "metadata": {
        "id": "KrMtYxD2l2n3"
      }
    },
    {
      "cell_type": "markdown",
      "source": [
        "This part of of the mini project experiments with the deck.gl / pydeck / WebGL stack"
      ],
      "metadata": {
        "id": "oXeLIvnHl6wt"
      }
    },
    {
      "cell_type": "markdown",
      "source": [
        "Again, first we've got to install a whole bunch of packages to make things work. \n",
        "\n",
        "It's a bit more complicated. Installing pydeck with pip upgrades all sorts of things, incl. jupyter which constitutes the colab runtine environement... \n",
        "\n",
        "**So one has to then manually restart the runtime before one can import all the packages after install. I took care of killing the runtime with code. It will restart automatically but one has to then manually execute the next cells after the one below. A RUN ALL CELLs will NOT work.**"
      ],
      "metadata": {
        "id": "LQUpbuq1mJ7C"
      }
    },
    {
      "cell_type": "code",
      "metadata": {
        "colab": {
          "base_uri": "https://localhost:8080/",
          "height": 1000
        },
        "id": "1Y-kS0DejM-W",
        "outputId": "ec060aa7-2447-430d-825d-13b9c0707608"
      },
      "source": [
        "!pip install condacolab\n",
        "!pip install jupyter_dash\n",
        "!pip install dash_deck\n",
        "!pip install flask-compress\n",
        "!pip install pydeck\n",
        "!pip install dash\n",
        "!pip install dash-bootstrap-components\n",
        "!pip install geopandas\n",
        "\n",
        "#import condacolab \n",
        "#condacolab.install()\n",
        "#!mamba install pydeck dash dash-bootstrap-components geopandas -c conda-forge\n",
        "import os\n",
        "os.kill(os.getpid(), 9)"
      ],
      "execution_count": null,
      "outputs": [
        {
          "output_type": "stream",
          "name": "stdout",
          "text": [
            "Looking in indexes: https://pypi.org/simple, https://us-python.pkg.dev/colab-wheels/public/simple/\n",
            "Collecting condacolab\n",
            "  Downloading condacolab-0.1.3-py3-none-any.whl (6.8 kB)\n",
            "Installing collected packages: condacolab\n",
            "Successfully installed condacolab-0.1.3\n",
            "Looking in indexes: https://pypi.org/simple, https://us-python.pkg.dev/colab-wheels/public/simple/\n",
            "Collecting jupyter_dash\n",
            "  Downloading jupyter_dash-0.4.2-py3-none-any.whl (23 kB)\n",
            "Requirement already satisfied: ipykernel in /usr/local/lib/python3.7/dist-packages (from jupyter_dash) (4.10.1)\n",
            "Collecting ansi2html\n",
            "  Downloading ansi2html-1.7.0-py3-none-any.whl (15 kB)\n",
            "Requirement already satisfied: flask in /usr/local/lib/python3.7/dist-packages (from jupyter_dash) (1.1.4)\n",
            "Requirement already satisfied: nest-asyncio in /usr/local/lib/python3.7/dist-packages (from jupyter_dash) (1.5.5)\n",
            "Collecting retrying\n",
            "  Downloading retrying-1.3.3.tar.gz (10 kB)\n",
            "Collecting dash\n",
            "  Downloading dash-2.4.1-py3-none-any.whl (9.8 MB)\n",
            "\u001b[K     |████████████████████████████████| 9.8 MB 12.9 MB/s \n",
            "\u001b[?25hRequirement already satisfied: requests in /usr/local/lib/python3.7/dist-packages (from jupyter_dash) (2.23.0)\n",
            "Requirement already satisfied: ipython in /usr/local/lib/python3.7/dist-packages (from jupyter_dash) (5.5.0)\n",
            "Requirement already satisfied: importlib-metadata in /usr/local/lib/python3.7/dist-packages (from ansi2html->jupyter_dash) (4.11.3)\n",
            "Collecting dash-table==5.0.0\n",
            "  Downloading dash_table-5.0.0-py3-none-any.whl (3.9 kB)\n",
            "Collecting dash-core-components==2.0.0\n",
            "  Downloading dash_core_components-2.0.0-py3-none-any.whl (3.8 kB)\n",
            "Collecting dash-html-components==2.0.0\n",
            "  Downloading dash_html_components-2.0.0-py3-none-any.whl (4.1 kB)\n",
            "Collecting flask-compress\n",
            "  Downloading Flask_Compress-1.12-py3-none-any.whl (7.9 kB)\n",
            "Requirement already satisfied: plotly>=5.0.0 in /usr/local/lib/python3.7/dist-packages (from dash->jupyter_dash) (5.5.0)\n",
            "Requirement already satisfied: itsdangerous<2.0,>=0.24 in /usr/local/lib/python3.7/dist-packages (from flask->jupyter_dash) (1.1.0)\n",
            "Requirement already satisfied: Werkzeug<2.0,>=0.15 in /usr/local/lib/python3.7/dist-packages (from flask->jupyter_dash) (1.0.1)\n",
            "Requirement already satisfied: Jinja2<3.0,>=2.10.1 in /usr/local/lib/python3.7/dist-packages (from flask->jupyter_dash) (2.11.3)\n",
            "Requirement already satisfied: click<8.0,>=5.1 in /usr/local/lib/python3.7/dist-packages (from flask->jupyter_dash) (7.1.2)\n",
            "Requirement already satisfied: MarkupSafe>=0.23 in /usr/local/lib/python3.7/dist-packages (from Jinja2<3.0,>=2.10.1->flask->jupyter_dash) (2.0.1)\n",
            "Requirement already satisfied: tenacity>=6.2.0 in /usr/local/lib/python3.7/dist-packages (from plotly>=5.0.0->dash->jupyter_dash) (8.0.1)\n",
            "Requirement already satisfied: six in /usr/local/lib/python3.7/dist-packages (from plotly>=5.0.0->dash->jupyter_dash) (1.15.0)\n",
            "Collecting brotli\n",
            "  Downloading Brotli-1.0.9-cp37-cp37m-manylinux1_x86_64.whl (357 kB)\n",
            "\u001b[K     |████████████████████████████████| 357 kB 59.2 MB/s \n",
            "\u001b[?25hRequirement already satisfied: typing-extensions>=3.6.4 in /usr/local/lib/python3.7/dist-packages (from importlib-metadata->ansi2html->jupyter_dash) (4.2.0)\n",
            "Requirement already satisfied: zipp>=0.5 in /usr/local/lib/python3.7/dist-packages (from importlib-metadata->ansi2html->jupyter_dash) (3.8.0)\n",
            "Requirement already satisfied: jupyter-client in /usr/local/lib/python3.7/dist-packages (from ipykernel->jupyter_dash) (5.3.5)\n",
            "Requirement already satisfied: traitlets>=4.1.0 in /usr/local/lib/python3.7/dist-packages (from ipykernel->jupyter_dash) (5.1.1)\n",
            "Requirement already satisfied: tornado>=4.0 in /usr/local/lib/python3.7/dist-packages (from ipykernel->jupyter_dash) (5.1.1)\n",
            "Requirement already satisfied: pickleshare in /usr/local/lib/python3.7/dist-packages (from ipython->jupyter_dash) (0.7.5)\n",
            "Requirement already satisfied: prompt-toolkit<2.0.0,>=1.0.4 in /usr/local/lib/python3.7/dist-packages (from ipython->jupyter_dash) (1.0.18)\n",
            "Requirement already satisfied: decorator in /usr/local/lib/python3.7/dist-packages (from ipython->jupyter_dash) (4.4.2)\n",
            "Requirement already satisfied: setuptools>=18.5 in /usr/local/lib/python3.7/dist-packages (from ipython->jupyter_dash) (57.4.0)\n",
            "Requirement already satisfied: pexpect in /usr/local/lib/python3.7/dist-packages (from ipython->jupyter_dash) (4.8.0)\n",
            "Requirement already satisfied: pygments in /usr/local/lib/python3.7/dist-packages (from ipython->jupyter_dash) (2.6.1)\n",
            "Requirement already satisfied: simplegeneric>0.8 in /usr/local/lib/python3.7/dist-packages (from ipython->jupyter_dash) (0.8.1)\n",
            "Requirement already satisfied: wcwidth in /usr/local/lib/python3.7/dist-packages (from prompt-toolkit<2.0.0,>=1.0.4->ipython->jupyter_dash) (0.2.5)\n",
            "Requirement already satisfied: pyzmq>=13 in /usr/local/lib/python3.7/dist-packages (from jupyter-client->ipykernel->jupyter_dash) (23.0.0)\n",
            "Requirement already satisfied: jupyter-core>=4.6.0 in /usr/local/lib/python3.7/dist-packages (from jupyter-client->ipykernel->jupyter_dash) (4.10.0)\n",
            "Requirement already satisfied: python-dateutil>=2.1 in /usr/local/lib/python3.7/dist-packages (from jupyter-client->ipykernel->jupyter_dash) (2.8.2)\n",
            "Requirement already satisfied: ptyprocess>=0.5 in /usr/local/lib/python3.7/dist-packages (from pexpect->ipython->jupyter_dash) (0.7.0)\n",
            "Requirement already satisfied: chardet<4,>=3.0.2 in /usr/local/lib/python3.7/dist-packages (from requests->jupyter_dash) (3.0.4)\n",
            "Requirement already satisfied: idna<3,>=2.5 in /usr/local/lib/python3.7/dist-packages (from requests->jupyter_dash) (2.10)\n",
            "Requirement already satisfied: certifi>=2017.4.17 in /usr/local/lib/python3.7/dist-packages (from requests->jupyter_dash) (2022.5.18.1)\n",
            "Requirement already satisfied: urllib3!=1.25.0,!=1.25.1,<1.26,>=1.21.1 in /usr/local/lib/python3.7/dist-packages (from requests->jupyter_dash) (1.24.3)\n",
            "Building wheels for collected packages: retrying\n",
            "  Building wheel for retrying (setup.py) ... \u001b[?25l\u001b[?25hdone\n",
            "  Created wheel for retrying: filename=retrying-1.3.3-py3-none-any.whl size=11447 sha256=451a631ddb18901273f1e4d4a731b3953998d81199956099a2df0198315a54bf\n",
            "  Stored in directory: /root/.cache/pip/wheels/f9/8d/8d/f6af3f7f9eea3553bc2fe6d53e4b287dad18b06a861ac56ddf\n",
            "Successfully built retrying\n",
            "Installing collected packages: brotli, flask-compress, dash-table, dash-html-components, dash-core-components, retrying, dash, ansi2html, jupyter-dash\n",
            "Successfully installed ansi2html-1.7.0 brotli-1.0.9 dash-2.4.1 dash-core-components-2.0.0 dash-html-components-2.0.0 dash-table-5.0.0 flask-compress-1.12 jupyter-dash-0.4.2 retrying-1.3.3\n",
            "Looking in indexes: https://pypi.org/simple, https://us-python.pkg.dev/colab-wheels/public/simple/\n",
            "Collecting dash_deck\n",
            "  Downloading dash_deck-0.0.1.tar.gz (2.1 MB)\n",
            "\u001b[K     |████████████████████████████████| 2.1 MB 7.1 MB/s \n",
            "\u001b[?25hBuilding wheels for collected packages: dash-deck\n",
            "  Building wheel for dash-deck (setup.py) ... \u001b[?25l\u001b[?25hdone\n",
            "  Created wheel for dash-deck: filename=dash_deck-0.0.1-py3-none-any.whl size=2151467 sha256=e7992ed0957d2af9e2f1afb0163473ec0ae149243afd55dccca9d8a5b347641b\n",
            "  Stored in directory: /root/.cache/pip/wheels/51/60/01/d340d4226c14497b1484676b1d0095aa0415f5c371a518369e\n",
            "Successfully built dash-deck\n",
            "Installing collected packages: dash-deck\n",
            "Successfully installed dash-deck-0.0.1\n",
            "Looking in indexes: https://pypi.org/simple, https://us-python.pkg.dev/colab-wheels/public/simple/\n",
            "Requirement already satisfied: flask-compress in /usr/local/lib/python3.7/dist-packages (1.12)\n",
            "Requirement already satisfied: brotli in /usr/local/lib/python3.7/dist-packages (from flask-compress) (1.0.9)\n",
            "Requirement already satisfied: flask in /usr/local/lib/python3.7/dist-packages (from flask-compress) (1.1.4)\n",
            "Requirement already satisfied: Jinja2<3.0,>=2.10.1 in /usr/local/lib/python3.7/dist-packages (from flask->flask-compress) (2.11.3)\n",
            "Requirement already satisfied: Werkzeug<2.0,>=0.15 in /usr/local/lib/python3.7/dist-packages (from flask->flask-compress) (1.0.1)\n",
            "Requirement already satisfied: click<8.0,>=5.1 in /usr/local/lib/python3.7/dist-packages (from flask->flask-compress) (7.1.2)\n",
            "Requirement already satisfied: itsdangerous<2.0,>=0.24 in /usr/local/lib/python3.7/dist-packages (from flask->flask-compress) (1.1.0)\n",
            "Requirement already satisfied: MarkupSafe>=0.23 in /usr/local/lib/python3.7/dist-packages (from Jinja2<3.0,>=2.10.1->flask->flask-compress) (2.0.1)\n",
            "Looking in indexes: https://pypi.org/simple, https://us-python.pkg.dev/colab-wheels/public/simple/\n",
            "Collecting pydeck\n",
            "  Downloading pydeck-0.7.1-py2.py3-none-any.whl (4.3 MB)\n",
            "\u001b[K     |████████████████████████████████| 4.3 MB 8.7 MB/s \n",
            "\u001b[?25hCollecting ipykernel>=5.1.2\n",
            "  Downloading ipykernel-6.13.0-py3-none-any.whl (131 kB)\n",
            "\u001b[K     |████████████████████████████████| 131 kB 53.0 MB/s \n",
            "\u001b[?25hRequirement already satisfied: jinja2>=2.10.1 in /usr/local/lib/python3.7/dist-packages (from pydeck) (2.11.3)\n",
            "Requirement already satisfied: ipywidgets>=7.0.0 in /usr/local/lib/python3.7/dist-packages (from pydeck) (7.7.0)\n",
            "Requirement already satisfied: numpy>=1.16.4 in /usr/local/lib/python3.7/dist-packages (from pydeck) (1.21.6)\n",
            "Requirement already satisfied: traitlets>=4.3.2 in /usr/local/lib/python3.7/dist-packages (from pydeck) (5.1.1)\n",
            "Collecting jupyter-client>=6.1.12\n",
            "  Downloading jupyter_client-7.3.1-py3-none-any.whl (130 kB)\n",
            "\u001b[K     |████████████████████████████████| 130 kB 58.1 MB/s \n",
            "\u001b[?25hRequirement already satisfied: nest-asyncio in /usr/local/lib/python3.7/dist-packages (from ipykernel>=5.1.2->pydeck) (1.5.5)\n",
            "Requirement already satisfied: matplotlib-inline>=0.1 in /usr/local/lib/python3.7/dist-packages (from ipykernel>=5.1.2->pydeck) (0.1.3)\n",
            "Collecting tornado>=6.1\n",
            "  Downloading tornado-6.1-cp37-cp37m-manylinux2010_x86_64.whl (428 kB)\n",
            "\u001b[K     |████████████████████████████████| 428 kB 45.1 MB/s \n",
            "\u001b[?25hCollecting ipython>=7.23.1\n",
            "  Downloading ipython-7.34.0-py3-none-any.whl (793 kB)\n",
            "\u001b[K     |████████████████████████████████| 793 kB 42.5 MB/s \n",
            "\u001b[?25hRequirement already satisfied: debugpy>=1.0 in /usr/local/lib/python3.7/dist-packages (from ipykernel>=5.1.2->pydeck) (1.0.0)\n",
            "Requirement already satisfied: psutil in /usr/local/lib/python3.7/dist-packages (from ipykernel>=5.1.2->pydeck) (5.4.8)\n",
            "Requirement already satisfied: packaging in /usr/local/lib/python3.7/dist-packages (from ipykernel>=5.1.2->pydeck) (21.3)\n",
            "Requirement already satisfied: pickleshare in /usr/local/lib/python3.7/dist-packages (from ipython>=7.23.1->ipykernel>=5.1.2->pydeck) (0.7.5)\n",
            "Collecting prompt-toolkit!=3.0.0,!=3.0.1,<3.1.0,>=2.0.0\n",
            "  Downloading prompt_toolkit-3.0.29-py3-none-any.whl (381 kB)\n",
            "\u001b[K     |████████████████████████████████| 381 kB 56.7 MB/s \n",
            "\u001b[?25hRequirement already satisfied: pexpect>4.3 in /usr/local/lib/python3.7/dist-packages (from ipython>=7.23.1->ipykernel>=5.1.2->pydeck) (4.8.0)\n",
            "Requirement already satisfied: setuptools>=18.5 in /usr/local/lib/python3.7/dist-packages (from ipython>=7.23.1->ipykernel>=5.1.2->pydeck) (57.4.0)\n",
            "Requirement already satisfied: jedi>=0.16 in /usr/local/lib/python3.7/dist-packages (from ipython>=7.23.1->ipykernel>=5.1.2->pydeck) (0.18.1)\n",
            "Requirement already satisfied: pygments in /usr/local/lib/python3.7/dist-packages (from ipython>=7.23.1->ipykernel>=5.1.2->pydeck) (2.6.1)\n",
            "Requirement already satisfied: decorator in /usr/local/lib/python3.7/dist-packages (from ipython>=7.23.1->ipykernel>=5.1.2->pydeck) (4.4.2)\n",
            "Requirement already satisfied: backcall in /usr/local/lib/python3.7/dist-packages (from ipython>=7.23.1->ipykernel>=5.1.2->pydeck) (0.2.0)\n",
            "Requirement already satisfied: widgetsnbextension~=3.6.0 in /usr/local/lib/python3.7/dist-packages (from ipywidgets>=7.0.0->pydeck) (3.6.0)\n",
            "Requirement already satisfied: ipython-genutils~=0.2.0 in /usr/local/lib/python3.7/dist-packages (from ipywidgets>=7.0.0->pydeck) (0.2.0)\n",
            "Requirement already satisfied: jupyterlab-widgets>=1.0.0 in /usr/local/lib/python3.7/dist-packages (from ipywidgets>=7.0.0->pydeck) (1.1.0)\n",
            "Requirement already satisfied: nbformat>=4.2.0 in /usr/local/lib/python3.7/dist-packages (from ipywidgets>=7.0.0->pydeck) (5.4.0)\n",
            "Requirement already satisfied: parso<0.9.0,>=0.8.0 in /usr/local/lib/python3.7/dist-packages (from jedi>=0.16->ipython>=7.23.1->ipykernel>=5.1.2->pydeck) (0.8.3)\n",
            "Requirement already satisfied: MarkupSafe>=0.23 in /usr/local/lib/python3.7/dist-packages (from jinja2>=2.10.1->pydeck) (2.0.1)\n",
            "Requirement already satisfied: jupyter-core>=4.9.2 in /usr/local/lib/python3.7/dist-packages (from jupyter-client>=6.1.12->ipykernel>=5.1.2->pydeck) (4.10.0)\n",
            "Requirement already satisfied: pyzmq>=22.3 in /usr/local/lib/python3.7/dist-packages (from jupyter-client>=6.1.12->ipykernel>=5.1.2->pydeck) (23.0.0)\n",
            "Requirement already satisfied: entrypoints in /usr/local/lib/python3.7/dist-packages (from jupyter-client>=6.1.12->ipykernel>=5.1.2->pydeck) (0.4)\n",
            "Requirement already satisfied: python-dateutil>=2.8.2 in /usr/local/lib/python3.7/dist-packages (from jupyter-client>=6.1.12->ipykernel>=5.1.2->pydeck) (2.8.2)\n",
            "Requirement already satisfied: jsonschema>=2.6 in /usr/local/lib/python3.7/dist-packages (from nbformat>=4.2.0->ipywidgets>=7.0.0->pydeck) (4.3.3)\n",
            "Requirement already satisfied: fastjsonschema in /usr/local/lib/python3.7/dist-packages (from nbformat>=4.2.0->ipywidgets>=7.0.0->pydeck) (2.15.3)\n",
            "Requirement already satisfied: typing-extensions in /usr/local/lib/python3.7/dist-packages (from jsonschema>=2.6->nbformat>=4.2.0->ipywidgets>=7.0.0->pydeck) (4.2.0)\n",
            "Requirement already satisfied: importlib-resources>=1.4.0 in /usr/local/lib/python3.7/dist-packages (from jsonschema>=2.6->nbformat>=4.2.0->ipywidgets>=7.0.0->pydeck) (5.7.1)\n",
            "Requirement already satisfied: importlib-metadata in /usr/local/lib/python3.7/dist-packages (from jsonschema>=2.6->nbformat>=4.2.0->ipywidgets>=7.0.0->pydeck) (4.11.3)\n",
            "Requirement already satisfied: pyrsistent!=0.17.0,!=0.17.1,!=0.17.2,>=0.14.0 in /usr/local/lib/python3.7/dist-packages (from jsonschema>=2.6->nbformat>=4.2.0->ipywidgets>=7.0.0->pydeck) (0.18.1)\n",
            "Requirement already satisfied: attrs>=17.4.0 in /usr/local/lib/python3.7/dist-packages (from jsonschema>=2.6->nbformat>=4.2.0->ipywidgets>=7.0.0->pydeck) (21.4.0)\n",
            "Requirement already satisfied: zipp>=3.1.0 in /usr/local/lib/python3.7/dist-packages (from importlib-resources>=1.4.0->jsonschema>=2.6->nbformat>=4.2.0->ipywidgets>=7.0.0->pydeck) (3.8.0)\n",
            "Requirement already satisfied: ptyprocess>=0.5 in /usr/local/lib/python3.7/dist-packages (from pexpect>4.3->ipython>=7.23.1->ipykernel>=5.1.2->pydeck) (0.7.0)\n",
            "Requirement already satisfied: wcwidth in /usr/local/lib/python3.7/dist-packages (from prompt-toolkit!=3.0.0,!=3.0.1,<3.1.0,>=2.0.0->ipython>=7.23.1->ipykernel>=5.1.2->pydeck) (0.2.5)\n",
            "Requirement already satisfied: six>=1.5 in /usr/local/lib/python3.7/dist-packages (from python-dateutil>=2.8.2->jupyter-client>=6.1.12->ipykernel>=5.1.2->pydeck) (1.15.0)\n",
            "Requirement already satisfied: notebook>=4.4.1 in /usr/local/lib/python3.7/dist-packages (from widgetsnbextension~=3.6.0->ipywidgets>=7.0.0->pydeck) (5.3.1)\n",
            "Requirement already satisfied: Send2Trash in /usr/local/lib/python3.7/dist-packages (from notebook>=4.4.1->widgetsnbextension~=3.6.0->ipywidgets>=7.0.0->pydeck) (1.8.0)\n",
            "Requirement already satisfied: terminado>=0.8.1 in /usr/local/lib/python3.7/dist-packages (from notebook>=4.4.1->widgetsnbextension~=3.6.0->ipywidgets>=7.0.0->pydeck) (0.13.3)\n",
            "Requirement already satisfied: nbconvert in /usr/local/lib/python3.7/dist-packages (from notebook>=4.4.1->widgetsnbextension~=3.6.0->ipywidgets>=7.0.0->pydeck) (5.6.1)\n",
            "Requirement already satisfied: mistune<2,>=0.8.1 in /usr/local/lib/python3.7/dist-packages (from nbconvert->notebook>=4.4.1->widgetsnbextension~=3.6.0->ipywidgets>=7.0.0->pydeck) (0.8.4)\n",
            "Requirement already satisfied: bleach in /usr/local/lib/python3.7/dist-packages (from nbconvert->notebook>=4.4.1->widgetsnbextension~=3.6.0->ipywidgets>=7.0.0->pydeck) (5.0.0)\n",
            "Requirement already satisfied: defusedxml in /usr/local/lib/python3.7/dist-packages (from nbconvert->notebook>=4.4.1->widgetsnbextension~=3.6.0->ipywidgets>=7.0.0->pydeck) (0.7.1)\n",
            "Requirement already satisfied: testpath in /usr/local/lib/python3.7/dist-packages (from nbconvert->notebook>=4.4.1->widgetsnbextension~=3.6.0->ipywidgets>=7.0.0->pydeck) (0.6.0)\n",
            "Requirement already satisfied: pandocfilters>=1.4.1 in /usr/local/lib/python3.7/dist-packages (from nbconvert->notebook>=4.4.1->widgetsnbextension~=3.6.0->ipywidgets>=7.0.0->pydeck) (1.5.0)\n",
            "Requirement already satisfied: webencodings in /usr/local/lib/python3.7/dist-packages (from bleach->nbconvert->notebook>=4.4.1->widgetsnbextension~=3.6.0->ipywidgets>=7.0.0->pydeck) (0.5.1)\n",
            "Requirement already satisfied: pyparsing!=3.0.5,>=2.0.2 in /usr/local/lib/python3.7/dist-packages (from packaging->ipykernel>=5.1.2->pydeck) (3.0.9)\n",
            "Installing collected packages: tornado, prompt-toolkit, jupyter-client, ipython, ipykernel, pydeck\n",
            "  Attempting uninstall: tornado\n",
            "    Found existing installation: tornado 5.1.1\n",
            "    Uninstalling tornado-5.1.1:\n",
            "      Successfully uninstalled tornado-5.1.1\n",
            "  Attempting uninstall: prompt-toolkit\n",
            "    Found existing installation: prompt-toolkit 1.0.18\n",
            "    Uninstalling prompt-toolkit-1.0.18:\n",
            "      Successfully uninstalled prompt-toolkit-1.0.18\n",
            "  Attempting uninstall: jupyter-client\n",
            "    Found existing installation: jupyter-client 5.3.5\n",
            "    Uninstalling jupyter-client-5.3.5:\n",
            "      Successfully uninstalled jupyter-client-5.3.5\n",
            "  Attempting uninstall: ipython\n",
            "    Found existing installation: ipython 5.5.0\n",
            "    Uninstalling ipython-5.5.0:\n",
            "      Successfully uninstalled ipython-5.5.0\n",
            "  Attempting uninstall: ipykernel\n",
            "    Found existing installation: ipykernel 4.10.1\n",
            "    Uninstalling ipykernel-4.10.1:\n",
            "      Successfully uninstalled ipykernel-4.10.1\n",
            "\u001b[31mERROR: pip's dependency resolver does not currently take into account all the packages that are installed. This behaviour is the source of the following dependency conflicts.\n",
            "jupyter-console 5.2.0 requires prompt-toolkit<2.0.0,>=1.0.0, but you have prompt-toolkit 3.0.29 which is incompatible.\n",
            "google-colab 1.0.0 requires ipykernel~=4.10, but you have ipykernel 6.13.0 which is incompatible.\n",
            "google-colab 1.0.0 requires ipython~=5.5.0, but you have ipython 7.34.0 which is incompatible.\n",
            "google-colab 1.0.0 requires tornado~=5.1.0; python_version >= \"3.0\", but you have tornado 6.1 which is incompatible.\u001b[0m\n",
            "Successfully installed ipykernel-6.13.0 ipython-7.34.0 jupyter-client-7.3.1 prompt-toolkit-3.0.29 pydeck-0.7.1 tornado-6.1\n"
          ]
        },
        {
          "output_type": "display_data",
          "data": {
            "application/vnd.colab-display-data+json": {
              "pip_warning": {
                "packages": [
                  "IPython",
                  "ipykernel",
                  "jupyter_client",
                  "prompt_toolkit",
                  "tornado"
                ]
              }
            }
          },
          "metadata": {}
        },
        {
          "output_type": "stream",
          "name": "stdout",
          "text": [
            "Looking in indexes: https://pypi.org/simple, https://us-python.pkg.dev/colab-wheels/public/simple/\n",
            "Requirement already satisfied: dash in /usr/local/lib/python3.7/dist-packages (2.4.1)\n",
            "Requirement already satisfied: flask-compress in /usr/local/lib/python3.7/dist-packages (from dash) (1.12)\n",
            "Requirement already satisfied: plotly>=5.0.0 in /usr/local/lib/python3.7/dist-packages (from dash) (5.5.0)\n",
            "Requirement already satisfied: dash-table==5.0.0 in /usr/local/lib/python3.7/dist-packages (from dash) (5.0.0)\n",
            "Requirement already satisfied: dash-html-components==2.0.0 in /usr/local/lib/python3.7/dist-packages (from dash) (2.0.0)\n",
            "Requirement already satisfied: dash-core-components==2.0.0 in /usr/local/lib/python3.7/dist-packages (from dash) (2.0.0)\n",
            "Requirement already satisfied: Flask>=1.0.4 in /usr/local/lib/python3.7/dist-packages (from dash) (1.1.4)\n",
            "Requirement already satisfied: click<8.0,>=5.1 in /usr/local/lib/python3.7/dist-packages (from Flask>=1.0.4->dash) (7.1.2)\n",
            "Requirement already satisfied: Werkzeug<2.0,>=0.15 in /usr/local/lib/python3.7/dist-packages (from Flask>=1.0.4->dash) (1.0.1)\n",
            "Requirement already satisfied: itsdangerous<2.0,>=0.24 in /usr/local/lib/python3.7/dist-packages (from Flask>=1.0.4->dash) (1.1.0)\n",
            "Requirement already satisfied: Jinja2<3.0,>=2.10.1 in /usr/local/lib/python3.7/dist-packages (from Flask>=1.0.4->dash) (2.11.3)\n",
            "Requirement already satisfied: MarkupSafe>=0.23 in /usr/local/lib/python3.7/dist-packages (from Jinja2<3.0,>=2.10.1->Flask>=1.0.4->dash) (2.0.1)\n",
            "Requirement already satisfied: six in /usr/local/lib/python3.7/dist-packages (from plotly>=5.0.0->dash) (1.15.0)\n",
            "Requirement already satisfied: tenacity>=6.2.0 in /usr/local/lib/python3.7/dist-packages (from plotly>=5.0.0->dash) (8.0.1)\n",
            "Requirement already satisfied: brotli in /usr/local/lib/python3.7/dist-packages (from flask-compress->dash) (1.0.9)\n",
            "Looking in indexes: https://pypi.org/simple, https://us-python.pkg.dev/colab-wheels/public/simple/\n",
            "Collecting dash-bootstrap-components\n",
            "  Downloading dash_bootstrap_components-1.1.0-py3-none-any.whl (210 kB)\n",
            "\u001b[K     |████████████████████████████████| 210 kB 7.7 MB/s \n",
            "\u001b[?25hRequirement already satisfied: dash>=2.0.0 in /usr/local/lib/python3.7/dist-packages (from dash-bootstrap-components) (2.4.1)\n",
            "Requirement already satisfied: dash-core-components==2.0.0 in /usr/local/lib/python3.7/dist-packages (from dash>=2.0.0->dash-bootstrap-components) (2.0.0)\n",
            "Requirement already satisfied: Flask>=1.0.4 in /usr/local/lib/python3.7/dist-packages (from dash>=2.0.0->dash-bootstrap-components) (1.1.4)\n",
            "Requirement already satisfied: dash-html-components==2.0.0 in /usr/local/lib/python3.7/dist-packages (from dash>=2.0.0->dash-bootstrap-components) (2.0.0)\n",
            "Requirement already satisfied: dash-table==5.0.0 in /usr/local/lib/python3.7/dist-packages (from dash>=2.0.0->dash-bootstrap-components) (5.0.0)\n",
            "Requirement already satisfied: plotly>=5.0.0 in /usr/local/lib/python3.7/dist-packages (from dash>=2.0.0->dash-bootstrap-components) (5.5.0)\n",
            "Requirement already satisfied: flask-compress in /usr/local/lib/python3.7/dist-packages (from dash>=2.0.0->dash-bootstrap-components) (1.12)\n",
            "Requirement already satisfied: Jinja2<3.0,>=2.10.1 in /usr/local/lib/python3.7/dist-packages (from Flask>=1.0.4->dash>=2.0.0->dash-bootstrap-components) (2.11.3)\n",
            "Requirement already satisfied: Werkzeug<2.0,>=0.15 in /usr/local/lib/python3.7/dist-packages (from Flask>=1.0.4->dash>=2.0.0->dash-bootstrap-components) (1.0.1)\n",
            "Requirement already satisfied: itsdangerous<2.0,>=0.24 in /usr/local/lib/python3.7/dist-packages (from Flask>=1.0.4->dash>=2.0.0->dash-bootstrap-components) (1.1.0)\n",
            "Requirement already satisfied: click<8.0,>=5.1 in /usr/local/lib/python3.7/dist-packages (from Flask>=1.0.4->dash>=2.0.0->dash-bootstrap-components) (7.1.2)\n",
            "Requirement already satisfied: MarkupSafe>=0.23 in /usr/local/lib/python3.7/dist-packages (from Jinja2<3.0,>=2.10.1->Flask>=1.0.4->dash>=2.0.0->dash-bootstrap-components) (2.0.1)\n",
            "Requirement already satisfied: six in /usr/local/lib/python3.7/dist-packages (from plotly>=5.0.0->dash>=2.0.0->dash-bootstrap-components) (1.15.0)\n",
            "Requirement already satisfied: tenacity>=6.2.0 in /usr/local/lib/python3.7/dist-packages (from plotly>=5.0.0->dash>=2.0.0->dash-bootstrap-components) (8.0.1)\n",
            "Requirement already satisfied: brotli in /usr/local/lib/python3.7/dist-packages (from flask-compress->dash>=2.0.0->dash-bootstrap-components) (1.0.9)\n",
            "Installing collected packages: dash-bootstrap-components\n",
            "Successfully installed dash-bootstrap-components-1.1.0\n",
            "Looking in indexes: https://pypi.org/simple, https://us-python.pkg.dev/colab-wheels/public/simple/\n",
            "Collecting geopandas\n",
            "  Downloading geopandas-0.10.2-py2.py3-none-any.whl (1.0 MB)\n",
            "\u001b[K     |████████████████████████████████| 1.0 MB 8.5 MB/s \n",
            "\u001b[?25hRequirement already satisfied: pandas>=0.25.0 in /usr/local/lib/python3.7/dist-packages (from geopandas) (1.3.5)\n",
            "Collecting fiona>=1.8\n",
            "  Downloading Fiona-1.8.21-cp37-cp37m-manylinux2014_x86_64.whl (16.7 MB)\n",
            "\u001b[K     |████████████████████████████████| 16.7 MB 49.6 MB/s \n",
            "\u001b[?25hCollecting pyproj>=2.2.0\n",
            "  Downloading pyproj-3.2.1-cp37-cp37m-manylinux2010_x86_64.whl (6.3 MB)\n",
            "\u001b[K     |████████████████████████████████| 6.3 MB 52.3 MB/s \n",
            "\u001b[?25hRequirement already satisfied: shapely>=1.6 in /usr/local/lib/python3.7/dist-packages (from geopandas) (1.8.2)\n",
            "Requirement already satisfied: attrs>=17 in /usr/local/lib/python3.7/dist-packages (from fiona>=1.8->geopandas) (21.4.0)\n",
            "Requirement already satisfied: setuptools in /usr/local/lib/python3.7/dist-packages (from fiona>=1.8->geopandas) (57.4.0)\n",
            "Requirement already satisfied: certifi in /usr/local/lib/python3.7/dist-packages (from fiona>=1.8->geopandas) (2022.5.18.1)\n",
            "Collecting click-plugins>=1.0\n",
            "  Downloading click_plugins-1.1.1-py2.py3-none-any.whl (7.5 kB)\n",
            "Collecting cligj>=0.5\n",
            "  Downloading cligj-0.7.2-py3-none-any.whl (7.1 kB)\n",
            "Requirement already satisfied: six>=1.7 in /usr/local/lib/python3.7/dist-packages (from fiona>=1.8->geopandas) (1.15.0)\n",
            "Requirement already satisfied: click>=4.0 in /usr/local/lib/python3.7/dist-packages (from fiona>=1.8->geopandas) (7.1.2)\n",
            "Collecting munch\n",
            "  Downloading munch-2.5.0-py2.py3-none-any.whl (10 kB)\n",
            "Requirement already satisfied: numpy>=1.17.3 in /usr/local/lib/python3.7/dist-packages (from pandas>=0.25.0->geopandas) (1.21.6)\n",
            "Requirement already satisfied: pytz>=2017.3 in /usr/local/lib/python3.7/dist-packages (from pandas>=0.25.0->geopandas) (2022.1)\n",
            "Requirement already satisfied: python-dateutil>=2.7.3 in /usr/local/lib/python3.7/dist-packages (from pandas>=0.25.0->geopandas) (2.8.2)\n",
            "Installing collected packages: munch, cligj, click-plugins, pyproj, fiona, geopandas\n",
            "Successfully installed click-plugins-1.1.1 cligj-0.7.2 fiona-1.8.21 geopandas-0.10.2 munch-2.5.0 pyproj-3.2.1\n"
          ]
        }
      ]
    },
    {
      "cell_type": "markdown",
      "source": [
        "**When you reach this cell the runtime would have restarted. So a RUN ALL CELLS would have stopped here. You need to kick things off again**\n",
        "Then we have to import a whole bunch of packages and load the export data from github\n",
        "\n"
      ],
      "metadata": {
        "id": "Ux6EP09NmSEj"
      }
    },
    {
      "cell_type": "code",
      "metadata": {
        "id": "3RkVwaaijWXV"
      },
      "source": [
        "import dash \n",
        "from jupyter_dash import JupyterDash \n",
        "\n",
        "from dash import dcc, html\n",
        "import plotly.express as px\n",
        "from dash.dependencies import Input, Output, State\n",
        "import dash_bootstrap_components as dbc\n",
        "import dash_deck\n",
        "import pydeck as pdk\n",
        "import pandas as pd\n",
        "import requests\n",
        "import geopandas as gpd\n",
        "from io import BytesIO\n",
        "import math\n",
        "\n",
        "#just getting the data from my github repository\n",
        "exports_geo=gpd.read_parquet(BytesIO(requests.get('https://github.com/econdatatech/GISC420/blob/main/nzexports_geo.parquet?raw=true', allow_redirects=True).content))\n",
        "\n"
      ],
      "execution_count": 1,
      "outputs": []
    },
    {
      "cell_type": "markdown",
      "source": [
        "Now we can get going. I used code from the internet and amended it for my purpose."
      ],
      "metadata": {
        "id": "zfl8UdEvfsPL"
      }
    },
    {
      "cell_type": "code",
      "source": [
        "#from https://dash.gallery/dash-deck-explorer/great-circle-layout\n",
        "#Adapted itself from: https://pydeck.gl/gallery/great_circle_layer.html\n",
        "df=exports_geo.loc[exports_geo['Year']=='2018',:]\n",
        "df['source'] = df.apply(lambda x: [174.885971,-40.900557], axis=1)\n",
        "df['destination'] = df.apply(lambda x: [x.geometry.x,x.geometry.y], axis=1)\n",
        "df.loc[:,'Exports ($NZD fob)']=round(df['Exports ($NZD fob)']/1000000,2)\n",
        "df.rename(columns = {'Exports ($NZD fob)':'Exports'}, inplace = True)\n",
        "df['width'] = df.apply(lambda x:  math.ceil(x.Exports/500), axis=1)\n",
        "df.sort_values('Exports', ascending=False,axis=0,inplace=True)\n",
        "\n",
        "# Define a layer to display on a map\n",
        "layer = pdk.Layer(\n",
        "    \"GreatCircleLayer\",\n",
        "    df.head(30),\n",
        "    pickable=True,\n",
        "    get_width='width',\n",
        "    get_source_position='source',\n",
        "    get_target_position='destination',\n",
        "    get_source_color=[0, 0, 255],\n",
        "    get_target_color=[255,0, 0],\n",
        "    auto_highlight=True,\n",
        ")\n",
        "\n",
        "# Set the viewport location\n",
        "view_state = pdk.ViewState(latitude=0, longitude=0, zoom=0, bearing=0, pitch=0)\n",
        "\n",
        "# Render\n",
        "r = pdk.Deck(layers=[layer], initial_view_state=view_state,)\n",
        "r.picking_radius = 10\n",
        "\n",
        "r.to_html(\"line_layer.html\")"
      ],
      "metadata": {
        "colab": {
          "base_uri": "https://localhost:8080/",
          "height": 1000
        },
        "id": "Y0AER4w7hnxT",
        "outputId": "c45e1beb-3d47-4fff-928c-a98a3083f597"
      },
      "execution_count": 2,
      "outputs": [
        {
          "output_type": "stream",
          "name": "stderr",
          "text": [
            "/usr/local/lib/python3.7/dist-packages/geopandas/geodataframe.py:1351: SettingWithCopyWarning: \n",
            "A value is trying to be set on a copy of a slice from a DataFrame.\n",
            "Try using .loc[row_indexer,col_indexer] = value instead\n",
            "\n",
            "See the caveats in the documentation: https://pandas.pydata.org/pandas-docs/stable/user_guide/indexing.html#returning-a-view-versus-a-copy\n",
            "  super().__setitem__(key, value)\n",
            "/usr/local/lib/python3.7/dist-packages/pandas/core/indexing.py:1773: SettingWithCopyWarning: \n",
            "A value is trying to be set on a copy of a slice from a DataFrame.\n",
            "Try using .loc[row_indexer,col_indexer] = value instead\n",
            "\n",
            "See the caveats in the documentation: https://pandas.pydata.org/pandas-docs/stable/user_guide/indexing.html#returning-a-view-versus-a-copy\n",
            "  self._setitem_single_column(ilocs[0], value, pi)\n",
            "/usr/local/lib/python3.7/dist-packages/pandas/core/frame.py:5047: SettingWithCopyWarning: \n",
            "A value is trying to be set on a copy of a slice from a DataFrame\n",
            "\n",
            "See the caveats in the documentation: https://pandas.pydata.org/pandas-docs/stable/user_guide/indexing.html#returning-a-view-versus-a-copy\n",
            "  errors=errors,\n",
            "/usr/local/lib/python3.7/dist-packages/pandas/util/_decorators.py:311: SettingWithCopyWarning: \n",
            "A value is trying to be set on a copy of a slice from a DataFrame\n",
            "\n",
            "See the caveats in the documentation: https://pandas.pydata.org/pandas-docs/stable/user_guide/indexing.html#returning-a-view-versus-a-copy\n",
            "  return func(*args, **kwargs)\n"
          ]
        },
        {
          "output_type": "display_data",
          "data": {
            "text/plain": [
              "<IPython.core.display.Javascript object>"
            ],
            "application/javascript": [
              "google.colab.output.setIframeHeight(500, true, {minHeight: 500})"
            ]
          },
          "metadata": {}
        },
        {
          "output_type": "display_data",
          "data": {
            "text/plain": [
              "<IPython.core.display.HTML object>"
            ],
            "text/html": [
              "<!DOCTYPE html>\n",
              "<html>\n",
              "  <head>\n",
              "    <meta http-equiv=\"content-type\" content=\"text/html; charset=UTF-8\" />\n",
              "    <title>pydeck</title>\n",
              "        <script src=\"https://api.tiles.mapbox.com/mapbox-gl-js/v1.13.0/mapbox-gl.js\"></script>\n",
              "        <link rel=\"stylesheet\" href=\"https://maxcdn.bootstrapcdn.com/bootstrap/3.2.0/css/bootstrap-theme.min.css\" />\n",
              "    <link rel=\"stylesheet\" href=\"https://maxcdn.bootstrapcdn.com/font-awesome/4.6.3/css/font-awesome.min.css\" />\n",
              "    <script src='https://cdn.jsdelivr.net/npm/@deck.gl/jupyter-widget@~8.5.*/dist/index.js'></script>\n",
              "    <style>\n",
              "    body {\n",
              "  margin: 0;\n",
              "  padding: 0;\n",
              "  overflow: hidden;\n",
              "}\n",
              "\n",
              "#deck-map-container {\n",
              "  width: 100%;\n",
              "  height: 100%;\n",
              "  background-color: black;\n",
              "}\n",
              "\n",
              "#map {\n",
              "  pointer-events: none;\n",
              "  height: 100%;\n",
              "  width: 100%;\n",
              "  position: absolute;\n",
              "  z-index: 1;\n",
              "}\n",
              "\n",
              "#deckgl-overlay {\n",
              "  z-index: 2;\n",
              "  background: none;\n",
              "}\n",
              "\n",
              "#deck-map-wrapper {\n",
              "  width: 100%;\n",
              "  height: 100%;\n",
              "}\n",
              "\n",
              "#deck-container {\n",
              "  width: 100vw;\n",
              "  height: 100vh;\n",
              "}\n",
              "    </style>\n",
              "  </head>\n",
              "  <body>\n",
              "    <div id=\"deck-container\">\n",
              "    </div>\n",
              "  </body>\n",
              "  <script>\n",
              "    const jsonInput = {\"initialViewState\": {\"bearing\": 0, \"latitude\": 0, \"longitude\": 0, \"pitch\": 0, \"zoom\": 0}, \"layers\": [{\"@@type\": \"GreatCircleLayer\", \"autoHighlight\": true, \"data\": [{\"Country\": \"China, People's Republic of\", \"Exports\": 13797.05, \"Year\": \"2018\", \"destination\": [104.195397, 35.86166], \"geometry\": {\"coordinates\": [104.195397, 35.86166], \"type\": \"Point\"}, \"source\": [174.885971, -40.900557], \"width\": 28}, {\"Country\": \"Australia\", \"Exports\": 8156.17, \"Year\": \"2018\", \"destination\": [133.775136, -25.274398], \"geometry\": {\"coordinates\": [133.775136, -25.274398], \"type\": \"Point\"}, \"source\": [174.885971, -40.900557], \"width\": 17}, {\"Country\": \"United States of America\", \"Exports\": 5300.4, \"Year\": \"2018\", \"destination\": [-95.712891, 37.09024], \"geometry\": {\"coordinates\": [-95.712891, 37.09024], \"type\": \"Point\"}, \"source\": [174.885971, -40.900557], \"width\": 11}, {\"Country\": \"Japan\", \"Exports\": 3477.91, \"Year\": \"2018\", \"destination\": [138.252924, 36.204824], \"geometry\": {\"coordinates\": [138.252924, 36.204824], \"type\": \"Point\"}, \"source\": [174.885971, -40.900557], \"width\": 7}, {\"Country\": \"Korea, Republic of\", \"Exports\": 1737.16, \"Year\": \"2018\", \"destination\": [127.766922, 35.907757], \"geometry\": {\"coordinates\": [127.766922, 35.907757], \"type\": \"Point\"}, \"source\": [174.885971, -40.900557], \"width\": 4}, {\"Country\": \"United Kingdom\", \"Exports\": 1509.6, \"Year\": \"2018\", \"destination\": [-3.435973, 55.378051], \"geometry\": {\"coordinates\": [-3.435973, 55.378051], \"type\": \"Point\"}, \"source\": [174.885971, -40.900557], \"width\": 4}, {\"Country\": \"Taiwan\", \"Exports\": 1199.68, \"Year\": \"2018\", \"destination\": [120.960515, 23.69781], \"geometry\": {\"coordinates\": [120.960515, 23.69781], \"type\": \"Point\"}, \"source\": [174.885971, -40.900557], \"width\": 3}, {\"Country\": \"Singapore\", \"Exports\": 1121.59, \"Year\": \"2018\", \"destination\": [103.819836, 1.352083], \"geometry\": {\"coordinates\": [103.819836, 1.352083], \"type\": \"Point\"}, \"source\": [174.885971, -40.900557], \"width\": 3}, {\"Country\": \"Hong Kong (Special Administrative Region)\", \"Exports\": 1104.72, \"Year\": \"2018\", \"destination\": [114.109497, 22.396428], \"geometry\": {\"coordinates\": [114.109497, 22.396428], \"type\": \"Point\"}, \"source\": [174.885971, -40.900557], \"width\": 3}, {\"Country\": \"Malaysia\", \"Exports\": 1010.8, \"Year\": \"2018\", \"destination\": [101.975766, 4.210484], \"geometry\": {\"coordinates\": [101.975766, 4.210484], \"type\": \"Point\"}, \"source\": [174.885971, -40.900557], \"width\": 3}, {\"Country\": \"Indonesia\", \"Exports\": 973.9, \"Year\": \"2018\", \"destination\": [113.921327, -0.789275], \"geometry\": {\"coordinates\": [113.921327, -0.789275], \"type\": \"Point\"}, \"source\": [174.885971, -40.900557], \"width\": 2}, {\"Country\": \"Thailand\", \"Exports\": 918.24, \"Year\": \"2018\", \"destination\": [100.992541, 15.870032], \"geometry\": {\"coordinates\": [100.992541, 15.870032], \"type\": \"Point\"}, \"source\": [174.885971, -40.900557], \"width\": 2}, {\"Country\": \"Netherlands\", \"Exports\": 839.22, \"Year\": \"2018\", \"destination\": [5.291266, 52.132633], \"geometry\": {\"coordinates\": [5.291266, 52.132633], \"type\": \"Point\"}, \"source\": [174.885971, -40.900557], \"width\": 2}, {\"Country\": \"Germany\", \"Exports\": 829.46, \"Year\": \"2018\", \"destination\": [10.451526, 51.165691], \"geometry\": {\"coordinates\": [10.451526, 51.165691], \"type\": \"Point\"}, \"source\": [174.885971, -40.900557], \"width\": 2}, {\"Country\": \"United Arab Emirates\", \"Exports\": 763.98, \"Year\": \"2018\", \"destination\": [53.847818, 23.424076], \"geometry\": {\"coordinates\": [53.847818, 23.424076], \"type\": \"Point\"}, \"source\": [174.885971, -40.900557], \"width\": 2}, {\"Country\": \"Philippines\", \"Exports\": 760.75, \"Year\": \"2018\", \"destination\": [121.774017, 12.879721], \"geometry\": {\"coordinates\": [121.774017, 12.879721], \"type\": \"Point\"}, \"source\": [174.885971, -40.900557], \"width\": 2}, {\"Country\": \"India\", \"Exports\": 701.16, \"Year\": \"2018\", \"destination\": [78.96288, 20.593684], \"geometry\": {\"coordinates\": [78.96288, 20.593684], \"type\": \"Point\"}, \"source\": [174.885971, -40.900557], \"width\": 2}, {\"Country\": \"Canada\", \"Exports\": 699.48, \"Year\": \"2018\", \"destination\": [-106.346771, 56.130366], \"geometry\": {\"coordinates\": [-106.346771, 56.130366], \"type\": \"Point\"}, \"source\": [174.885971, -40.900557], \"width\": 2}, {\"Country\": \"Viet Nam\", \"Exports\": 690.55, \"Year\": \"2018\", \"destination\": [108.277199, 14.058324], \"geometry\": {\"coordinates\": [108.277199, 14.058324], \"type\": \"Point\"}, \"source\": [174.885971, -40.900557], \"width\": 2}, {\"Country\": \"Destination Unknown - EU\", \"Exports\": 614.31, \"Year\": \"2018\", \"destination\": [-6.777627124289503, 45.90781348707752], \"geometry\": {\"coordinates\": [-6.777627124289503, 45.90781348707752], \"type\": \"Point\"}, \"source\": [174.885971, -40.900557], \"width\": 2}, {\"Country\": \"Saudi Arabia\", \"Exports\": 593.99, \"Year\": \"2018\", \"destination\": [45.079162, 23.885942], \"geometry\": {\"coordinates\": [45.079162, 23.885942], \"type\": \"Point\"}, \"source\": [174.885971, -40.900557], \"width\": 2}, {\"Country\": \"Algeria\", \"Exports\": 493.64, \"Year\": \"2018\", \"destination\": [1.659626, 28.033886], \"geometry\": {\"coordinates\": [1.659626, 28.033886], \"type\": \"Point\"}, \"source\": [174.885971, -40.900557], \"width\": 1}, {\"Country\": \"Sri Lanka\", \"Exports\": 409.61, \"Year\": \"2018\", \"destination\": [80.771797, 7.873054], \"geometry\": {\"coordinates\": [80.771797, 7.873054], \"type\": \"Point\"}, \"source\": [174.885971, -40.900557], \"width\": 1}, {\"Country\": \"Fiji\", \"Exports\": 383.1, \"Year\": \"2018\", \"destination\": [179.414413, -16.578193], \"geometry\": {\"coordinates\": [179.414413, -16.578193], \"type\": \"Point\"}, \"source\": [174.885971, -40.900557], \"width\": 1}, {\"Country\": \"Egypt\", \"Exports\": 344.98, \"Year\": \"2018\", \"destination\": [30.802498, 26.820553], \"geometry\": {\"coordinates\": [30.802498, 26.820553], \"type\": \"Point\"}, \"source\": [174.885971, -40.900557], \"width\": 1}, {\"Country\": \"Mexico\", \"Exports\": 334.52, \"Year\": \"2018\", \"destination\": [-102.552784, 23.634501], \"geometry\": {\"coordinates\": [-102.552784, 23.634501], \"type\": \"Point\"}, \"source\": [174.885971, -40.900557], \"width\": 1}, {\"Country\": \"France\", \"Exports\": 323.62, \"Year\": \"2018\", \"destination\": [2.213749, 46.227638], \"geometry\": {\"coordinates\": [2.213749, 46.227638], \"type\": \"Point\"}, \"source\": [174.885971, -40.900557], \"width\": 1}, {\"Country\": \"Bangladesh\", \"Exports\": 319.74, \"Year\": \"2018\", \"destination\": [90.356331, 23.684994], \"geometry\": {\"coordinates\": [90.356331, 23.684994], \"type\": \"Point\"}, \"source\": [174.885971, -40.900557], \"width\": 1}, {\"Country\": \"Italy\", \"Exports\": 313.08, \"Year\": \"2018\", \"destination\": [12.56738, 41.87194], \"geometry\": {\"coordinates\": [12.56738, 41.87194], \"type\": \"Point\"}, \"source\": [174.885971, -40.900557], \"width\": 1}, {\"Country\": \"Belgium\", \"Exports\": 278.05, \"Year\": \"2018\", \"destination\": [4.469936, 50.503887], \"geometry\": {\"coordinates\": [4.469936, 50.503887], \"type\": \"Point\"}, \"source\": [174.885971, -40.900557], \"width\": 1}], \"getSourceColor\": [0, 0, 255], \"getSourcePosition\": \"@@=source\", \"getTargetColor\": [255, 0, 0], \"getTargetPosition\": \"@@=destination\", \"getWidth\": \"@@=width\", \"id\": \"6cc2d262-f940-4463-af6c-b59f11d83dd9\", \"pickable\": true}], \"mapProvider\": \"carto\", \"mapStyle\": \"https://basemaps.cartocdn.com/gl/dark-matter-gl-style/style.json\", \"pickingRadius\": 10, \"views\": [{\"@@type\": \"MapView\", \"controller\": true}]};\n",
              "    const tooltip = true;\n",
              "    const customLibraries = null;\n",
              "\n",
              "    const deckInstance = createDeck({\n",
              "                  container: document.getElementById('deck-container'),\n",
              "      jsonInput,\n",
              "      tooltip,\n",
              "      customLibraries\n",
              "    });\n",
              "\n",
              "  </script>\n",
              "</html>"
            ]
          },
          "metadata": {}
        },
        {
          "output_type": "execute_result",
          "data": {
            "text/plain": [
              "'<!DOCTYPE html>\\n<html>\\n  <head>\\n    <meta http-equiv=\"content-type\" content=\"text/html; charset=UTF-8\" />\\n    <title>pydeck</title>\\n        <script src=\"https://api.tiles.mapbox.com/mapbox-gl-js/v1.13.0/mapbox-gl.js\"></script>\\n        <link rel=\"stylesheet\" href=\"https://maxcdn.bootstrapcdn.com/bootstrap/3.2.0/css/bootstrap-theme.min.css\" />\\n    <link rel=\"stylesheet\" href=\"https://maxcdn.bootstrapcdn.com/font-awesome/4.6.3/css/font-awesome.min.css\" />\\n    <script src=\\'https://cdn.jsdelivr.net/npm/@deck.gl/jupyter-widget@~8.5.*/dist/index.js\\'></script>\\n    <style>\\n    body {\\n  margin: 0;\\n  padding: 0;\\n  overflow: hidden;\\n}\\n\\n#deck-map-container {\\n  width: 100%;\\n  height: 100%;\\n  background-color: black;\\n}\\n\\n#map {\\n  pointer-events: none;\\n  height: 100%;\\n  width: 100%;\\n  position: absolute;\\n  z-index: 1;\\n}\\n\\n#deckgl-overlay {\\n  z-index: 2;\\n  background: none;\\n}\\n\\n#deck-map-wrapper {\\n  width: 100%;\\n  height: 100%;\\n}\\n\\n#deck-container {\\n  width: 100vw;\\n  height: 100vh;\\n}\\n    </style>\\n  </head>\\n  <body>\\n    <div id=\"deck-container\">\\n    </div>\\n  </body>\\n  <script>\\n    const jsonInput = {\"initialViewState\": {\"bearing\": 0, \"latitude\": 0, \"longitude\": 0, \"pitch\": 0, \"zoom\": 0}, \"layers\": [{\"@@type\": \"GreatCircleLayer\", \"autoHighlight\": true, \"data\": [{\"Country\": \"China, People\\'s Republic of\", \"Exports\": 13797.05, \"Year\": \"2018\", \"destination\": [104.195397, 35.86166], \"geometry\": {\"coordinates\": [104.195397, 35.86166], \"type\": \"Point\"}, \"source\": [174.885971, -40.900557], \"width\": 28}, {\"Country\": \"Australia\", \"Exports\": 8156.17, \"Year\": \"2018\", \"destination\": [133.775136, -25.274398], \"geometry\": {\"coordinates\": [133.775136, -25.274398], \"type\": \"Point\"}, \"source\": [174.885971, -40.900557], \"width\": 17}, {\"Country\": \"United States of America\", \"Exports\": 5300.4, \"Year\": \"2018\", \"destination\": [-95.712891, 37.09024], \"geometry\": {\"coordinates\": [-95.712891, 37.09024], \"type\": \"Point\"}, \"source\": [174.885971, -40.900557], \"width\": 11}, {\"Country\": \"Japan\", \"Exports\": 3477.91, \"Year\": \"2018\", \"destination\": [138.252924, 36.204824], \"geometry\": {\"coordinates\": [138.252924, 36.204824], \"type\": \"Point\"}, \"source\": [174.885971, -40.900557], \"width\": 7}, {\"Country\": \"Korea, Republic of\", \"Exports\": 1737.16, \"Year\": \"2018\", \"destination\": [127.766922, 35.907757], \"geometry\": {\"coordinates\": [127.766922, 35.907757], \"type\": \"Point\"}, \"source\": [174.885971, -40.900557], \"width\": 4}, {\"Country\": \"United Kingdom\", \"Exports\": 1509.6, \"Year\": \"2018\", \"destination\": [-3.435973, 55.378051], \"geometry\": {\"coordinates\": [-3.435973, 55.378051], \"type\": \"Point\"}, \"source\": [174.885971, -40.900557], \"width\": 4}, {\"Country\": \"Taiwan\", \"Exports\": 1199.68, \"Year\": \"2018\", \"destination\": [120.960515, 23.69781], \"geometry\": {\"coordinates\": [120.960515, 23.69781], \"type\": \"Point\"}, \"source\": [174.885971, -40.900557], \"width\": 3}, {\"Country\": \"Singapore\", \"Exports\": 1121.59, \"Year\": \"2018\", \"destination\": [103.819836, 1.352083], \"geometry\": {\"coordinates\": [103.819836, 1.352083], \"type\": \"Point\"}, \"source\": [174.885971, -40.900557], \"width\": 3}, {\"Country\": \"Hong Kong (Special Administrative Region)\", \"Exports\": 1104.72, \"Year\": \"2018\", \"destination\": [114.109497, 22.396428], \"geometry\": {\"coordinates\": [114.109497, 22.396428], \"type\": \"Point\"}, \"source\": [174.885971, -40.900557], \"width\": 3}, {\"Country\": \"Malaysia\", \"Exports\": 1010.8, \"Year\": \"2018\", \"destination\": [101.975766, 4.210484], \"geometry\": {\"coordinates\": [101.975766, 4.210484], \"type\": \"Point\"}, \"source\": [174.885971, -40.900557], \"width\": 3}, {\"Country\": \"Indonesia\", \"Exports\": 973.9, \"Year\": \"2018\", \"destination\": [113.921327, -0.789275], \"geometry\": {\"coordinates\": [113.921327, -0.789275], \"type\": \"Point\"}, \"source\": [174.885971, -40.900557], \"width\": 2}, {\"Country\": \"Thailand\", \"Exports\": 918.24, \"Year\": \"2018\", \"destination\": [100.992541, 15.870032], \"geometry\": {\"coordinates\": [100.992541, 15.870032], \"type\": \"Point\"}, \"source\": [174.885971, -40.900557], \"width\": 2}, {\"Country\": \"Netherlands\", \"Exports\": 839.22, \"Year\": \"2018\", \"destination\": [5.291266, 52.132633], \"geometry\": {\"coordinates\": [5.291266, 52.132633], \"type\": \"Point\"}, \"source\": [174.885971, -40.900557], \"width\": 2}, {\"Country\": \"Germany\", \"Exports\": 829.46, \"Year\": \"2018\", \"destination\": [10.451526, 51.165691], \"geometry\": {\"coordinates\": [10.451526, 51.165691], \"type\": \"Point\"}, \"source\": [174.885971, -40.900557], \"width\": 2}, {\"Country\": \"United Arab Emirates\", \"Exports\": 763.98, \"Year\": \"2018\", \"destination\": [53.847818, 23.424076], \"geometry\": {\"coordinates\": [53.847818, 23.424076], \"type\": \"Point\"}, \"source\": [174.885971, -40.900557], \"width\": 2}, {\"Country\": \"Philippines\", \"Exports\": 760.75, \"Year\": \"2018\", \"destination\": [121.774017, 12.879721], \"geometry\": {\"coordinates\": [121.774017, 12.879721], \"type\": \"Point\"}, \"source\": [174.885971, -40.900557], \"width\": 2}, {\"Country\": \"India\", \"Exports\": 701.16, \"Year\": \"2018\", \"destination\": [78.96288, 20.593684], \"geometry\": {\"coordinates\": [78.96288, 20.593684], \"type\": \"Point\"}, \"source\": [174.885971, -40.900557], \"width\": 2}, {\"Country\": \"Canada\", \"Exports\": 699.48, \"Year\": \"2018\", \"destination\": [-106.346771, 56.130366], \"geometry\": {\"coordinates\": [-106.346771, 56.130366], \"type\": \"Point\"}, \"source\": [174.885971, -40.900557], \"width\": 2}, {\"Country\": \"Viet Nam\", \"Exports\": 690.55, \"Year\": \"2018\", \"destination\": [108.277199, 14.058324], \"geometry\": {\"coordinates\": [108.277199, 14.058324], \"type\": \"Point\"}, \"source\": [174.885971, -40.900557], \"width\": 2}, {\"Country\": \"Destination Unknown - EU\", \"Exports\": 614.31, \"Year\": \"2018\", \"destination\": [-6.777627124289503, 45.90781348707752], \"geometry\": {\"coordinates\": [-6.777627124289503, 45.90781348707752], \"type\": \"Point\"}, \"source\": [174.885971, -40.900557], \"width\": 2}, {\"Country\": \"Saudi Arabia\", \"Exports\": 593.99, \"Year\": \"2018\", \"destination\": [45.079162, 23.885942], \"geometry\": {\"coordinates\": [45.079162, 23.885942], \"type\": \"Point\"}, \"source\": [174.885971, -40.900557], \"width\": 2}, {\"Country\": \"Algeria\", \"Exports\": 493.64, \"Year\": \"2018\", \"destination\": [1.659626, 28.033886], \"geometry\": {\"coordinates\": [1.659626, 28.033886], \"type\": \"Point\"}, \"source\": [174.885971, -40.900557], \"width\": 1}, {\"Country\": \"Sri Lanka\", \"Exports\": 409.61, \"Year\": \"2018\", \"destination\": [80.771797, 7.873054], \"geometry\": {\"coordinates\": [80.771797, 7.873054], \"type\": \"Point\"}, \"source\": [174.885971, -40.900557], \"width\": 1}, {\"Country\": \"Fiji\", \"Exports\": 383.1, \"Year\": \"2018\", \"destination\": [179.414413, -16.578193], \"geometry\": {\"coordinates\": [179.414413, -16.578193], \"type\": \"Point\"}, \"source\": [174.885971, -40.900557], \"width\": 1}, {\"Country\": \"Egypt\", \"Exports\": 344.98, \"Year\": \"2018\", \"destination\": [30.802498, 26.820553], \"geometry\": {\"coordinates\": [30.802498, 26.820553], \"type\": \"Point\"}, \"source\": [174.885971, -40.900557], \"width\": 1}, {\"Country\": \"Mexico\", \"Exports\": 334.52, \"Year\": \"2018\", \"destination\": [-102.552784, 23.634501], \"geometry\": {\"coordinates\": [-102.552784, 23.634501], \"type\": \"Point\"}, \"source\": [174.885971, -40.900557], \"width\": 1}, {\"Country\": \"France\", \"Exports\": 323.62, \"Year\": \"2018\", \"destination\": [2.213749, 46.227638], \"geometry\": {\"coordinates\": [2.213749, 46.227638], \"type\": \"Point\"}, \"source\": [174.885971, -40.900557], \"width\": 1}, {\"Country\": \"Bangladesh\", \"Exports\": 319.74, \"Year\": \"2018\", \"destination\": [90.356331, 23.684994], \"geometry\": {\"coordinates\": [90.356331, 23.684994], \"type\": \"Point\"}, \"source\": [174.885971, -40.900557], \"width\": 1}, {\"Country\": \"Italy\", \"Exports\": 313.08, \"Year\": \"2018\", \"destination\": [12.56738, 41.87194], \"geometry\": {\"coordinates\": [12.56738, 41.87194], \"type\": \"Point\"}, \"source\": [174.885971, -40.900557], \"width\": 1}, {\"Country\": \"Belgium\", \"Exports\": 278.05, \"Year\": \"2018\", \"destination\": [4.469936, 50.503887], \"geometry\": {\"coordinates\": [4.469936, 50.503887], \"type\": \"Point\"}, \"source\": [174.885971, -40.900557], \"width\": 1}], \"getSourceColor\": [0, 0, 255], \"getSourcePosition\": \"@@=source\", \"getTargetColor\": [255, 0, 0], \"getTargetPosition\": \"@@=destination\", \"getWidth\": \"@@=width\", \"id\": \"6cc2d262-f940-4463-af6c-b59f11d83dd9\", \"pickable\": true}], \"mapProvider\": \"carto\", \"mapStyle\": \"https://basemaps.cartocdn.com/gl/dark-matter-gl-style/style.json\", \"pickingRadius\": 10, \"views\": [{\"@@type\": \"MapView\", \"controller\": true}]};\\n    const tooltip = true;\\n    const customLibraries = null;\\n\\n    const deckInstance = createDeck({\\n                  container: document.getElementById(\\'deck-container\\'),\\n      jsonInput,\\n      tooltip,\\n      customLibraries\\n    });\\n\\n  </script>\\n</html>'"
            ],
            "application/vnd.google.colaboratory.intrinsic+json": {
              "type": "string"
            }
          },
          "metadata": {},
          "execution_count": 2
        }
      ]
    },
    {
      "cell_type": "markdown",
      "source": [
        "The above is a single HTML page. There is also the option to create a dash app that would allow for interactive dashboard functionality (like choosing reference years, etc). \n",
        "\n",
        "I didn't have time to implement e.g. a drop down menue for trading year and then issue a call back to redraw the map with adjusted data. But the principle is well demonstrated here https://github.com/plotly/jupyter-dash/blob/master/notebooks/getting_started.ipynb\n",
        "\n",
        "At least I got the app going... unfortunately it (for now) just looks like the single HTML page from the cell above due to time constraints."
      ],
      "metadata": {
        "id": "2vcOXX-zUAzo"
      }
    },
    {
      "cell_type": "code",
      "source": [
        "mapbox_api_token = 'pk.eyJ1IjoiaGFwcHlkZW1pZSIsImEiOiJjbDJxYXUwem8wM2k0M2JwZW4wNGVqZGlhIn0.0Jb40vvCEhRAY_v6y0YdfQ'\n",
        "app = JupyterDash(__name__)\n",
        "app.layout = html.Div(\n",
        "    dash_deck.DeckGL(\n",
        "        r.to_json(),\n",
        "        id=\"deck-gl\",\n",
        "        mapboxKey=mapbox_api_token,\n",
        "        tooltip={\"text\": \"New Zealand to {Country}, {Exports} Mil $NZD Exports\"}\n",
        "    )\n",
        ")\n",
        "app.run_server(mode='inline')"
      ],
      "metadata": {
        "colab": {
          "base_uri": "https://localhost:8080/",
          "height": 671
        },
        "id": "Eomeb0W6T4It",
        "outputId": "1e8cdaed-37d2-4b0a-c9c3-15371091e8b6"
      },
      "execution_count": 3,
      "outputs": [
        {
          "output_type": "display_data",
          "data": {
            "text/plain": [
              "<IPython.core.display.Javascript object>"
            ],
            "application/javascript": [
              "(async (port, path, width, height, cache, element) => {\n",
              "    if (!google.colab.kernel.accessAllowed && !cache) {\n",
              "      return;\n",
              "    }\n",
              "    element.appendChild(document.createTextNode(''));\n",
              "    const url = await google.colab.kernel.proxyPort(port, {cache});\n",
              "    const iframe = document.createElement('iframe');\n",
              "    iframe.src = new URL(path, url).toString();\n",
              "    iframe.height = height;\n",
              "    iframe.width = width;\n",
              "    iframe.style.border = 0;\n",
              "    element.appendChild(iframe);\n",
              "  })(8050, \"/\", \"100%\", 650, false, window.element)"
            ]
          },
          "metadata": {}
        }
      ]
    },
    {
      "cell_type": "markdown",
      "source": [
        "Both maps above took a while to get going, because the deck.gl team decided to go back and forth with the parameter for the thickness of the lines in the greatcircle layer (which inherits from the ArcLayer).\n",
        "\n",
        "**First:**\n",
        "Upgrading from deck.gl v5.2 to v5.3, https://deck.gl/docs/upgrade-guide#layer-properties\n",
        "\n",
        "ArcLayer:\tstrokeWidth\t(Removed Prop), getStrokeWidth (New Prop)\n",
        "\n",
        "\n",
        "\n",
        "**Then shortly afterwards back to how it was:**\n",
        "\n",
        "Upgrading from deck.gl v6.4 to v7.0, https://deck.gl/docs/upgrade-guide#layers-3\n",
        "\n",
        "ArcLayer: getStrokeWidth (Removed Prop), getWidth (New Prop)\n",
        "\n",
        "\n",
        "**Assessment:**\n",
        "Overall the results are not too shabby. We got a color gradient and tooltip / mouseover functionality. But I'm still a bit bumped out, because variable line width isn't available (or at least I don't know how to).\n",
        "\n",
        "There are people looking into it, but it would require to inject the line width information into the webgl shader... and that not something I can smarten up about in the time I have left :(\n",
        "\n",
        "c.f.: https://github.com/visgl/deck.gl/issues/5021 and https://jsfiddle.net/symbolixau/09e2u5jg/191/\n",
        "\n",
        "There are also people looking into gradient shaded polygons in WebGl c.f. https://github.com/visgl/deck.gl/issues/2663 and https://jsfiddle.net/symbolixau/on7432fj/70/\n",
        "\n",
        "But again, to try and do that in pydeck is currently beyond the time scale of the assignement.\n",
        "It appears that one might first have to write a SolidPolygon Layer based on the existing Polygon Layer https://pydeck.gl/gallery/polygon_layer.html\n",
        "But I might be mislead or mistaken.. I just saw the author in above jsfiddle link did that. (c.f. as well https://deck.gl/docs/api-reference/layers/solid-polygon-layer)\n",
        "\n",
        "**Drawback of the map:**\n",
        "\n",
        "\n",
        "*   no variable line width\n",
        "*   map snaps into place only after double click or pan with the mouse. Before the great circle lines are actually a bit out of position\n"
      ],
      "metadata": {
        "id": "dxywdvGazSO0"
      }
    },
    {
      "cell_type": "markdown",
      "source": [
        "#Custom Layer / External JS\n",
        "With deck.gl there is the possibilty to create a custom layer using external javascript.\n",
        "C.f. \n",
        "\n",
        "https://github.com/plotly/dash-deck#custom-layers\n",
        "\n",
        "https://pydeck.gl/custom_layers.html\n",
        "\n",
        "https://deck.gl/docs/developer-guide/custom-layers/layer-extensions\n",
        "\n",
        "https://deck.gl/docs/developer-guide/custom-layers/writing-shaders\n",
        "\n",
        "https://pydeck.gl/custom_layers.html\n",
        "\n",
        "If ever one were to be able to get this going in a reasonable amount of time, one could make use of the existing flowmap.gl package which states that it can be used as a deck.gl custom layer. I simply didn't have enough time to get it going inside pydeck.\n",
        "https://teralytics.github.io/flowmap.gl/index.html?path=/story/basic--basic-as-layer\n",
        "\n",
        "https://github.com/FlowmapBlue/flowmap.gl/tree/main/examples/webpack-app/src\n",
        "\n",
        "https://cdn.jsdelivr.net/npm/flowmap.gl@4.0.0/dist/\n",
        "\n",
        "https://unpkg.com/flowmap.gl@4.0.0/dist/index.js\n",
        "\n",
        "https://openbase.com/js/@flowmap.gl/core/documentation\n",
        "\n",
        "https://github.com/FlowmapBlue/FlowmapBlue\n",
        "\n",
        "\n",
        "#Other GL alternatives\n",
        "There is the leaflet.gl package https://www.npmjs.com/package/@ksanek/leaflet.glify, https://github.com/robertleeplummerjr/Leaflet.glify that is available for folium (c.f. https://pypi.org/project/folium-glify-layer/) But again it would require me to read up on direct WebGL programming with too little time left."
      ],
      "metadata": {
        "id": "ttKb3LOKU4Ao"
      }
    }
  ]
}